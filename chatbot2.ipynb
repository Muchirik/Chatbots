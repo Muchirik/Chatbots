{
 "cells": [
  {
   "cell_type": "code",
   "execution_count": 16,
   "metadata": {},
   "outputs": [
    {
     "name": "stdout",
     "output_type": "stream",
     "text": [
      "Welcome to Modcom Institute of Technology\n",
      "How can we help you?\n",
      "A computer program is a set of Instructions which guide a computer on what do do!\n",
      "None\n"
     ]
    }
   ],
   "source": [
    "#chatbot\n",
    "#computer program that allows human beings/computer users to communicate with computers\n",
    "#we wil use a tool called Natural Language toolkit\n",
    "#NLP natural language processing- allows computers to understand simple english statements; communicate with human beings\n",
    "# voice communication \n",
    "#autocomplete, autocorrect, spelling check\n",
    "import nltk\n",
    "from nltk.chat.util import Chat, reflections\n",
    "#we are to put the questions and answers in a list\n",
    "pairs=[\n",
    "    #inner list for individual questions and answers\n",
    "    [\n",
    "        r\"Hi?\",#question\n",
    "        [\"Hello there, I am happy to meet you\"],#response\n",
    "    ],\n",
    "    [\n",
    "        r\"What is your name?\",\n",
    "        [\"My name  is Chatty, I like Chatting alot\"],\n",
    "    ],\n",
    "    [\n",
    "        r\"What are you?\",\n",
    "        [\"I am a bot!\"],\n",
    "    ],\n",
    "    [\n",
    "        r\"What can you do?\",\n",
    "        [\"I have a few functionalities, would you like to hear about them?\"],\n",
    "    ],\n",
    "    [\n",
    "        r\"Yes\",\n",
    "        [\"Here is a list:\"],\n",
    "    ],\n",
    "    [\n",
    "        r\"(.*)courses\",\n",
    "        [\"Data science, Cyber security, Android\"],\n",
    "    ],\n",
    "    [\n",
    "        r\"When is your next intake\",\n",
    "        [\"3rd June 2022 and 2nd Sep 2022\"]\n",
    "    ],\n",
    "    [\n",
    "        r\"(.*)gender\",\n",
    "        [\"I do not really have a gender because am a computer program!\"],\n",
    "    ],\n",
    "    [\n",
    "        r\"(.*)computer program\",\n",
    "        [\"A computer program is a set of Instructions which guide a computer on what do do!\"],\n",
    "    ]\n",
    "]\n",
    "chat=Chat(pairs)\n",
    "#function to initialize the conversation\n",
    "def chatty():\n",
    "    #main introductory message\n",
    "    print(\"Welcome to Modcom Institute of Technology\\nHow can we help you?\")\n",
    "    chat=Chat(pairs,reflections)\n",
    "    chat.converse()\n",
    "chatty()\n"
   ]
  }
 ],
 "metadata": {
  "kernelspec": {
   "display_name": "Python 3.10.5 64-bit",
   "language": "python",
   "name": "python3"
  },
  "language_info": {
   "codemirror_mode": {
    "name": "ipython",
    "version": 3
   },
   "file_extension": ".py",
   "mimetype": "text/x-python",
   "name": "python",
   "nbconvert_exporter": "python",
   "pygments_lexer": "ipython3",
   "version": "3.10.5"
  },
  "orig_nbformat": 4,
  "vscode": {
   "interpreter": {
    "hash": "116b92790799ec08338fec8df335fe6ede03ef83c59f43cfdb65af7f0a5e455b"
   }
  }
 },
 "nbformat": 4,
 "nbformat_minor": 2
}
